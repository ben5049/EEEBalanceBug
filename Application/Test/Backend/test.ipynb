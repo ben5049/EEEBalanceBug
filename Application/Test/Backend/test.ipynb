{
 "cells": [
  {
   "cell_type": "code",
   "execution_count": 1,
   "metadata": {},
   "outputs": [],
   "source": [
    "from utils import Node,valid_connection\n",
    "import graphviz\n",
    "import os\n",
    "import matplotlib.pyplot as plt\n",
    "import numpy\n",
    "os.environ[\"PATH\"] += os.pathsep + r'C:\\Program Files\\Graphviz\\bin'\n",
    "import random"
   ]
  },
  {
   "cell_type": "code",
   "execution_count": 2,
   "metadata": {},
   "outputs": [],
   "source": [
    "def node_distance(n1:Node,n2:Node):\n",
    "    return ((n1.position[0]-n2.position[0])**2+(n1.position[1]-n2.position[1])**2)**0.5"
   ]
  },
  {
   "cell_type": "code",
   "execution_count": 3,
   "metadata": {},
   "outputs": [],
   "source": [
    "m_entrance = (180,120)\n",
    "m_exit = (360,240)"
   ]
  },
  {
   "cell_type": "code",
   "execution_count": 4,
   "metadata": {},
   "outputs": [],
   "source": [
    "enter_node = Node(*m_entrance)"
   ]
  },
  {
   "cell_type": "code",
   "execution_count": 5,
   "metadata": {},
   "outputs": [
    {
     "data": {
      "text/plain": [
       "['N', 'E', 'S', 'W']"
      ]
     },
     "execution_count": 5,
     "metadata": {},
     "output_type": "execute_result"
    }
   ],
   "source": [
    "[direction for direction in enter_node.edges if enter_node.edges[direction] == None]"
   ]
  },
  {
   "cell_type": "code",
   "execution_count": 6,
   "metadata": {},
   "outputs": [],
   "source": [
    "def generate_node(n1:Node):\n",
    "    a_dir = [direction for direction in n1.edges if n1.edges[direction]==None]\n",
    "    if len(a_dir)==0:\n",
    "        return \"no directions possible\"\n",
    "    valid = 0\n",
    "    x = n1.position[0]\n",
    "    y = n1.position[1]\n",
    "    while not valid:\n",
    "        direction = a_dir[numpy.random.randint(0,len(a_dir)-1)]\n",
    "        distance = int(round(numpy.random.normal(50,7),0))\n",
    "        valid = bool(valid_connection(n1, direction,distance))\n",
    "    match(direction):\n",
    "        case \"N\":\n",
    "            y = y+distance\n",
    "        case \"E\":\n",
    "            x = x+distance\n",
    "        case \"S\":\n",
    "            y = y-distance\n",
    "        case \"W\":\n",
    "            s = s-distance\n",
    "    n2 = Node(x,y)\n",
    "    n1.connect(n2,direction)\n",
    "    return 1\n",
    "\n",
    "\n",
    "    \n",
    "    "
   ]
  },
  {
   "cell_type": "code",
   "execution_count": 30,
   "metadata": {},
   "outputs": [
    {
     "data": {
      "text/plain": [
       "1"
      ]
     },
     "execution_count": 30,
     "metadata": {},
     "output_type": "execute_result"
    }
   ],
   "source": [
    "generate_node(enter_node)"
   ]
  },
  {
   "cell_type": "code",
   "execution_count": 31,
   "metadata": {},
   "outputs": [
    {
     "data": {
      "text/plain": [
       "['E:(225, 120)']"
      ]
     },
     "execution_count": 31,
     "metadata": {},
     "output_type": "execute_result"
    }
   ],
   "source": [
    "[edge+\":\"+str(enter_node.edges[edge].position) for edge in enter_node.edges if enter_node.edges[edge]!=None]"
   ]
  },
  {
   "cell_type": "code",
   "execution_count": 32,
   "metadata": {},
   "outputs": [
    {
     "ename": "AttributeError",
     "evalue": "'NoneType' object has no attribute 'edges'",
     "output_type": "error",
     "traceback": [
      "\u001b[1;31m---------------------------------------------------------------------------\u001b[0m",
      "\u001b[1;31mAttributeError\u001b[0m                            Traceback (most recent call last)",
      "Cell \u001b[1;32mIn[32], line 1\u001b[0m\n\u001b[1;32m----> 1\u001b[0m enter_node\u001b[39m.\u001b[39;49medges[\u001b[39m'\u001b[39;49m\u001b[39mS\u001b[39;49m\u001b[39m'\u001b[39;49m]\u001b[39m.\u001b[39;49medges\n",
      "\u001b[1;31mAttributeError\u001b[0m: 'NoneType' object has no attribute 'edges'"
     ]
    }
   ],
   "source": [
    "enter_node.edges['S'].edges"
   ]
  },
  {
   "cell_type": "code",
   "execution_count": 33,
   "metadata": {},
   "outputs": [],
   "source": [
    "def plot_node(arr,n1:Node):\n",
    "    position = n1.position\n",
    "    closed_edges = [i for i in n1.edges if n1.edges[i]==None]\n",
    "\n",
    "    if position[0]-10<0:\n",
    "        x_edges = (0,position[0]+10)\n",
    "    elif position[0]+10>360:\n",
    "        x_edges = (position[0]-10,359)\n",
    "    else:\n",
    "        x_edges = (position[0]-10,position[0]+10)\n",
    "    \n",
    "    if position[1]-10<0:\n",
    "        y_edges = (0,position[1]+10)\n",
    "    elif position[0]+10>240:\n",
    "        y_edges = (position[1]-10,239)\n",
    "    else:\n",
    "        y_edges = (position[1]-10,position[1]+10)\n",
    "\n",
    "    for direction in closed_edges:\n",
    "        match(direction):\n",
    "            case \"N\":\n",
    "                for i in range(x_edges[0],x_edges[1]):\n",
    "                    arr[y_edges[1]][i]=100\n",
    "            case \"E\":\n",
    "                for i in range(y_edges[0],y_edges[1]):\n",
    "                    arr[i][x_edges[1]]=100\n",
    "            case \"S\":\n",
    "                for i in range(x_edges[0],x_edges[1]):\n",
    "                    arr[y_edges[0]][i]=100\n",
    "            case \"W\":\n",
    "                for i in range(y_edges[0],y_edges[1]):\n",
    "                    arr[i][x_edges[0]]=100\n",
    "     \n",
    "    return arr\n",
    "\n"
   ]
  },
  {
   "cell_type": "code",
   "execution_count": 34,
   "metadata": {},
   "outputs": [],
   "source": [
    "def graph_nodes(n1:Node):\n",
    "    z = numpy.zeros((240,360))    \n",
    "    explored = []\n",
    "    unvisited = [n1]\n",
    "    def recursion(n2:Node,arr):\n",
    "        unvisited.remove(n2)\n",
    "        explored.append(n2)\n",
    "        a_nodes = [n2.edges[node] for node in n2.edges if n2.edges[node] not in explored and n2.edges[node] != None]\n",
    "        unvisited.extend(a_nodes)\n",
    "        arr = plot_node(arr,n2)\n",
    "    while(unvisited):\n",
    "        recursion(unvisited[0],z)\n",
    "    return z\n",
    "\n",
    "            "
   ]
  },
  {
   "cell_type": "code",
   "execution_count": 35,
   "metadata": {},
   "outputs": [],
   "source": [
    "z = graph_nodes(enter_node)"
   ]
  },
  {
   "cell_type": "code",
   "execution_count": 28,
   "metadata": {},
   "outputs": [],
   "source": [
    "z=numpy.zeros((240,360))\n",
    "z=plot_node(z,enter_node)"
   ]
  },
  {
   "cell_type": "code",
   "execution_count": 36,
   "metadata": {},
   "outputs": [
    {
     "data": {
      "image/png": "[encoded data removed]",
      "text/plain": [
       "<Figure size 640x480 with 1 Axes>"
      ]
     },
     "metadata": {},
     "output_type": "display_data"
    }
   ],
   "source": [
    "plt.pcolormesh(z)\n",
    "plt.gca().set_aspect('equal')\n",
    "plt.show()\n"
   ]
  },
  {
   "cell_type": "code",
   "execution_count": null,
   "metadata": {},
   "outputs": [],
   "source": []
  }
 ],
 "metadata": {
  "kernelspec": {
   "display_name": "Python 3",
   "language": "python",
   "name": "python3"
  },
  "language_info": {
   "codemirror_mode": {
    "name": "ipython",
    "version": 3
   },
   "file_extension": ".py",
   "mimetype": "text/x-python",
   "name": "python",
   "nbconvert_exporter": "python",
   "pygments_lexer": "ipython3",
   "version": "3.10.11"
  },
  "orig_nbformat": 4
 },
 "nbformat": 4,
 "nbformat_minor": 2
}
