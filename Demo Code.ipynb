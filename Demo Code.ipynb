{
 "cells": [
  {
   "cell_type": "code",
   "execution_count": 1,
   "metadata": {},
   "outputs": [
    {
     "name": "stdout",
     "output_type": "stream",
     "text": [
      "pygame 2.4.0 (SDL 2.26.4, Python 3.10.11)\n",
      "Hello from the pygame community. https://www.pygame.org/contribute.html\n"
     ]
    }
   ],
   "source": [
    "import pygame\n",
    "from pygame.locals import *\n",
    "import time\n",
    "import requests\n",
    "import json"
   ]
  },
  {
   "cell_type": "code",
   "execution_count": 32,
   "metadata": {},
   "outputs": [],
   "source": [
    "SERVER_IP = \"http://54.165.59.37:5000\""
   ]
  },
  {
   "cell_type": "code",
   "execution_count": 43,
   "metadata": {},
   "outputs": [
    {
     "data": {
      "text/plain": [
       "(4, 1)"
      ]
     },
     "execution_count": 43,
     "metadata": {},
     "output_type": "execute_result"
    }
   ],
   "source": [
    "pygame.init()"
   ]
  },
  {
   "cell_type": "code",
   "execution_count": 44,
   "metadata": {},
   "outputs": [],
   "source": [
    "pygame.joystick.init()"
   ]
  },
  {
   "cell_type": "code",
   "execution_count": 45,
   "metadata": {},
   "outputs": [],
   "source": [
    "controller = pygame.joystick.Joystick(0)"
   ]
  },
  {
   "cell_type": "code",
   "execution_count": 36,
   "metadata": {},
   "outputs": [],
   "source": [
    "def get_button(colour,controller):\n",
    "    pygame.event.get()\n",
    "    if colour.lower() == \"r\":\n",
    "        button = 1\n",
    "    elif colour.lower() == \"b\":\n",
    "        button = 2\n",
    "    elif colour.lower() == \"y\":\n",
    "        button = 3\n",
    "    elif colour.lower() == \"a\":\n",
    "        button = 0\n",
    "    return controller.get_button(button)"
   ]
  },
  {
   "cell_type": "code",
   "execution_count": 37,
   "metadata": {},
   "outputs": [
    {
     "data": {
      "text/plain": [
       "0"
      ]
     },
     "execution_count": 37,
     "metadata": {},
     "output_type": "execute_result"
    }
   ],
   "source": [
    "get_button(\"r\",controller)"
   ]
  },
  {
   "cell_type": "code",
   "execution_count": 8,
   "metadata": {},
   "outputs": [],
   "source": [
    "def activate_light(colour, state):\n",
    "    if colour.lower() == \"a\":\n",
    "        data = {\"energy status\":1,\"override_red\":state,\"override_yellow\":state,\"override_blue\":state}\n",
    "        res = requests.post(url=SERVER_IP+\"/led_driver/red\",json=data)\n",
    "        res = requests.post(url=SERVER_IP+\"/led_driver/yellow\",json=data)\n",
    "        res = requests.post(url=SERVER_IP+\"/led_driver/blue\",json=data)\n",
    "    if colour.lower() == \"r\":\n",
    "        data = {\"energy status\":1,\"override_red\":state,\"override_yellow\":state,\"override_blue\":state}\n",
    "        res = requests.post(url=SERVER_IP+\"/led_driver/red\",json=data)\n",
    "    elif colour.lower() == \"b\":\n",
    "        data = {\"energy status\":1,\"override_red\":state,\"override_yellow\":state,\"override_blue\":state}\n",
    "        res = requests.post(url=SERVER_IP+\"/led_driver/blue\",json=data)\n",
    "    elif colour.lower() == \"y\":\n",
    "        data = {\"energy status\":1,\"override_red\":state,\"override_yellow\":state,\"override_blue\":state}\n",
    "        res = requests.post(url=SERVER_IP+\"/led_driver/yellow\",json=data)\n",
    "    print(f\"turned {colour} light {state}\")"
   ]
  },
  {
   "cell_type": "code",
   "execution_count": 9,
   "metadata": {},
   "outputs": [],
   "source": [
    "def get_value(axis,controller):\n",
    "    pygame.event.get()\n",
    "    if axis==\"x\":\n",
    "        axis = 0\n",
    "    elif axis==\"y\":\n",
    "        axis = 1\n",
    "    value = controller.get_axis(axis)\n",
    "    if abs(value)<0.2:\n",
    "        value = float(0)\n",
    "    return value"
   ]
  },
  {
   "cell_type": "code",
   "execution_count": 12,
   "metadata": {},
   "outputs": [
    {
     "name": "stdout",
     "output_type": "stream",
     "text": [
      "found target bluetooth device with address  24:0A:C4:11:0F:A2\n"
     ]
    }
   ],
   "source": [
    "import bluetooth\n",
    "\n",
    "target_name = \"dwayne\"\n",
    "target_address = None\n",
    "\n",
    "nearby_devices = bluetooth.discover_devices()\n",
    "\n",
    "for bdaddr in nearby_devices:\n",
    "    if target_name == bluetooth.lookup_name( bdaddr ):\n",
    "        target_address = bdaddr\n",
    "        break\n",
    "\n",
    "if target_address is not None:\n",
    "    print(\"found target bluetooth device with address \", target_address)\n",
    "else:\n",
    "    print(\"could not find target bluetooth device nearby\")"
   ]
  },
  {
   "cell_type": "code",
   "execution_count": 13,
   "metadata": {},
   "outputs": [
    {
     "data": {
      "text/plain": [
       "['48:74:12:5F:A5:5A', '94:E2:3C:DE:A5:2F', '24:0A:C4:11:0F:A2']"
      ]
     },
     "execution_count": 13,
     "metadata": {},
     "output_type": "execute_result"
    }
   ],
   "source": [
    "nearby_devices"
   ]
  },
  {
   "cell_type": "code",
   "execution_count": 14,
   "metadata": {},
   "outputs": [
    {
     "name": "stdout",
     "output_type": "stream",
     "text": [
      "[{'host': '24:0A:C4:11:0F:A2', 'name': b'ESP32SPP\\x00', 'description': '', 'port': 1, 'protocol': 'RFCOMM', 'rawrecord': b'6\\x00D\\t\\x00\\x00\\n\\x00\\x01\\x00\\x00\\t\\x00\\x015\\x03\\x19\\x11\\x01\\t\\x00\\x045\\x0c5\\x03\\x19\\x01\\x005\\x05\\x19\\x00\\x03\\x08\\x01\\t\\x00\\x055\\x03\\x19\\x10\\x02\\t\\x00\\t5\\x085\\x06\\x19\\x11\\x01\\t\\x01\\x02\\t\\x01\\x00%\\tESP32SPP\\x00', 'service-classes': [b'1101'], 'profiles': [(b'1101', 258)], 'provider': None, 'service-id': None, 'handle': 65536}]\n"
     ]
    }
   ],
   "source": [
    "services = bluetooth.find_service(address=target_address)\n",
    "print(services)\n"
   ]
  },
  {
   "cell_type": "code",
   "execution_count": 15,
   "metadata": {},
   "outputs": [],
   "source": [
    "host = services[0]['host']\n",
    "port = services[0]['port']\n",
    "sock = bluetooth.BluetoothSocket(bluetooth.RFCOMM)\n",
    "sock.connect((host, port))\n"
   ]
  },
  {
   "cell_type": "code",
   "execution_count": 16,
   "metadata": {},
   "outputs": [],
   "source": [
    "light_states={\"r\":0,\"b\":0,\"y\":0, \"a\":0}"
   ]
  },
  {
   "cell_type": "code",
   "execution_count": null,
   "metadata": {},
   "outputs": [],
   "source": []
  },
  {
   "cell_type": "code",
   "execution_count": 46,
   "metadata": {},
   "outputs": [
    {
     "name": "stdout",
     "output_type": "stream",
     "text": [
      "b'x-0.0y-0.0'\n",
      "b'x-0.0y-0.0'\n",
      "b'x-0.0y-0.0'\n",
      "b'x-0.0y-0.0'\n",
      "b'x-0.0y-0.0'\n",
      "b'x-0.0y-0.0'\n",
      "b'x-0.0y-0.0'\n",
      "b'x-0.0y-0.0'\n",
      "b'x-0.0y-65.5'\n",
      "b'x-0.0y-66.0'\n",
      "b'x-0.0y-0.0'\n",
      "b'x-0.0y44.8'\n",
      "b'x-0.0y75.0'\n",
      "b'x-0.0y75.0'\n",
      "b'x-0.0y-0.0'\n",
      "b'x-0.0y-0.0'\n",
      "b'x-0.0y-0.0'\n",
      "b'x-0.0y-0.0'\n",
      "b'x-0.0y-0.0'\n",
      "b'x-0.0y-0.0'\n",
      "b'x-0.0y-0.0'\n",
      "b'x-0.0y-0.0'\n",
      "b'x-0.0y-0.0'\n",
      "b'x-0.0y-0.0'\n"
     ]
    },
    {
     "ename": "KeyboardInterrupt",
     "evalue": "",
     "output_type": "error",
     "traceback": [
      "\u001b[1;31m---------------------------------------------------------------------------\u001b[0m",
      "\u001b[1;31mKeyboardInterrupt\u001b[0m                         Traceback (most recent call last)",
      "Cell \u001b[1;32mIn[46], line 2\u001b[0m\n\u001b[0;32m      1\u001b[0m \u001b[39mwhile\u001b[39;00m(\u001b[39m1\u001b[39m):\n\u001b[1;32m----> 2\u001b[0m     time\u001b[39m.\u001b[39;49msleep(\u001b[39m0.2\u001b[39;49m)\n\u001b[0;32m      3\u001b[0m     xval \u001b[39m=\u001b[39m \u001b[39m-\u001b[39mget_value(\u001b[39m\"\u001b[39m\u001b[39my\u001b[39m\u001b[39m\"\u001b[39m,controller)\u001b[39m*\u001b[39m\u001b[39m200\u001b[39m\n\u001b[0;32m      4\u001b[0m     yval \u001b[39m=\u001b[39m \u001b[39m-\u001b[39mget_value(\u001b[39m\"\u001b[39m\u001b[39mx\u001b[39m\u001b[39m\"\u001b[39m,controller)\u001b[39m*\u001b[39m\u001b[39m75\u001b[39m\n",
      "\u001b[1;31mKeyboardInterrupt\u001b[0m: "
     ]
    }
   ],
   "source": [
    "while(1):\n",
    "    time.sleep(0.2)\n",
    "    xval = -get_value(\"y\",controller)*200\n",
    "    yval = -get_value(\"x\",controller)*75\n",
    "    controller.rumble(abs(xval/200),abs(yval/75),0)\n",
    "    data = f'x{round(xval,1)}y{round(yval,1)}'.encode('utf-8')\n",
    "    if get_button('r',controller):\n",
    "        light_states['r'] = not light_states['r']\n",
    "        try:\n",
    "            activate_light(\"r\",light_states['r'])\n",
    "        except:\n",
    "            continue\n",
    "    if get_button('b',controller):\n",
    "        light_states['b'] = not light_states['b']\n",
    "        try:\n",
    "            activate_light(\"b\",light_states['b'])\n",
    "        except:\n",
    "            continue\n",
    "    if get_button('y',controller):\n",
    "        light_states['y'] = not light_states['y']\n",
    "        try:\n",
    "            activate_light(\"y\",light_states['y'])\n",
    "        except:\n",
    "            continue\n",
    "    if get_button('a',controller):\n",
    "        light_states['a'] = not light_states['a']\n",
    "        try:\n",
    "            activate_light(\"a\",light_states['a'])\n",
    "        except:\n",
    "            continue\n",
    "    \n",
    "    if(yval+xval)!=0:\n",
    "        print(data)\n",
    "        try:\n",
    "            sock.send(data)\n",
    "        except:\n",
    "            continue\n",
    "    else:\n",
    "        print(data)\n",
    "    "
   ]
  },
  {
   "cell_type": "code",
   "execution_count": null,
   "metadata": {},
   "outputs": [],
   "source": []
  }
 ],
 "metadata": {
  "kernelspec": {
   "display_name": "venv",
   "language": "python",
   "name": "python3"
  },
  "language_info": {
   "codemirror_mode": {
    "name": "ipython",
    "version": 3
   },
   "file_extension": ".py",
   "mimetype": "text/x-python",
   "name": "python",
   "nbconvert_exporter": "python",
   "pygments_lexer": "ipython3",
   "version": "3.10.11"
  },
  "orig_nbformat": 4
 },
 "nbformat": 4,
 "nbformat_minor": 2
}
